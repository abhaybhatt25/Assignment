{
 "cells": [
  {
   "cell_type": "markdown",
   "id": "ec66e356-80cc-42d5-8b00-c596d2cac53d",
   "metadata": {},
   "source": [
    "# Data Science Tools and Ecosystem"
   ]
  },
  {
   "cell_type": "markdown",
   "id": "fe9824e8-2caa-4a3e-8ebf-8680e10b79e9",
   "metadata": {},
   "source": [
    "In this notebook, Data Science Tools and Ecosystem are summarized.\n",
    "\n"
   ]
  },
  {
   "cell_type": "markdown",
   "id": "1e6136a6-9533-43d1-8a4a-4e8b3c0d3905",
   "metadata": {},
   "source": [
    "Some of the popular languages that Data Scientists use are:\n",
    "1. Python\n",
    "2. R\n",
    "3. SQL"
   ]
  },
  {
   "cell_type": "markdown",
   "id": "73d63c9d-90d7-4fd7-aef5-efb64d0e01a9",
   "metadata": {},
   "source": [
    "Some of the commonly used libraries used by Data Scientists include:\n",
    "1. Panda\n",
    "2. Numpy\n",
    "3. Matlib"
   ]
  },
  {
   "cell_type": "markdown",
   "id": "e740cf30-61da-4d9d-9d79-b1907ab53597",
   "metadata": {},
   "source": [
    "| **Data Science Tools**|\n",
    "|----|\n",
    "|Jupitor Notbook|\n",
    "|Visual Basic Studio|\n",
    "|Google Colab|"
   ]
  },
  {
   "cell_type": "markdown",
   "id": "e1f928e5-14c4-4619-a9d8-b5d97600b113",
   "metadata": {},
   "source": [
    "### Below are a few examples of evaluating arithmetic expressions in Python"
   ]
  },
  {
   "cell_type": "code",
   "execution_count": 3,
   "id": "bcced631-d448-443e-a669-44c23c486cb0",
   "metadata": {},
   "outputs": [
    {
     "data": {
      "text/plain": [
       "17"
      ]
     },
     "execution_count": 3,
     "metadata": {},
     "output_type": "execute_result"
    }
   ],
   "source": [
    "# This a simple arithmetic expression to mutiply then add integers\n",
    "(3*4)+5"
   ]
  },
  {
   "cell_type": "code",
   "execution_count": 4,
   "id": "9f135def-2320-4871-a52a-a831b2e60d3a",
   "metadata": {},
   "outputs": [
    {
     "data": {
      "text/plain": [
       "3.3333333333333335"
      ]
     },
     "execution_count": 4,
     "metadata": {},
     "output_type": "execute_result"
    }
   ],
   "source": [
    "# This will convert 200 minutes to hours by diving by 60\n",
    "200/60"
   ]
  },
  {
   "cell_type": "markdown",
   "id": "37ca79a7-b374-426a-9276-78395e86cd9e",
   "metadata": {},
   "source": [
    "**Objectives:**\n",
    "* Populer Lenguages\n",
    "* Creating tables\n",
    "* Solving Arithmatic Expression"
   ]
  },
  {
   "cell_type": "markdown",
   "id": "399c332b-cb48-4a76-8aaa-2ad1d2aa356f",
   "metadata": {},
   "source": [
    "## Author \n",
    "Abhay Bhatt"
   ]
  },
  {
   "cell_type": "code",
   "execution_count": null,
   "id": "8dbe5531-0c80-43bf-833a-7cbdb9fbf504",
   "metadata": {},
   "outputs": [],
   "source": []
  }
 ],
 "metadata": {
  "kernelspec": {
   "display_name": "Python 3 (ipykernel)",
   "language": "python",
   "name": "python3"
  },
  "language_info": {
   "codemirror_mode": {
    "name": "ipython",
    "version": 3
   },
   "file_extension": ".py",
   "mimetype": "text/x-python",
   "name": "python",
   "nbconvert_exporter": "python",
   "pygments_lexer": "ipython3",
   "version": "3.13.2"
  }
 },
 "nbformat": 4,
 "nbformat_minor": 5
}
